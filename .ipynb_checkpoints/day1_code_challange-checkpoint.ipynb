{
 "cells": [
  {
   "cell_type": "code",
   "execution_count": null,
   "metadata": {},
   "outputs": [],
   "source": [
    "total_travel=100\n",
    "fuel=5\n",
    "average_of_car=total_travel/fuel\n",
    "print(\"average of car is \", average_of_car)"
   ]
  },
  {
   "cell_type": "code",
   "execution_count": null,
   "metadata": {},
   "outputs": [],
   "source": [
    "travel=160\n",
    "cost_fuel= 80\n",
    "vehical_average=18\n",
    "cost_of_day=(travel/vehical_average)*cost_fuel\n",
    "print(\"cost of per day is\", cost_of_day)\n"
   ]
  },
  {
   "cell_type": "code",
   "execution_count": null,
   "metadata": {},
   "outputs": [],
   "source": [
    "assgn1=int(input(\"enter marks of 1st assignment\"))\n",
    "assgn2=int(input(\"enter marks of 2nd assignment\"))\n",
    "assgn3=int(input(\"enter marks of 3rd assignment\"))\n",
    "test1=int(input(\"enter marks of 1st test\"))\n",
    "test2=int(input(\"enter marks of 2nd test\"))\n",
    "\n",
    "total_marks=(assgn1 + assgn2 + assgn3)*0.1 + (test1+test2)*0.35\n",
    "print(\"weighted score =\",total_marks)\n",
    "\n"
   ]
  },
  {
   "cell_type": "code",
   "execution_count": null,
   "metadata": {},
   "outputs": [],
   "source": [
    "print(\"* \"*8)\n",
    "print(\" *\"*8)\n",
    "print(\"* \"*8)\n",
    "print(\" *\"*8)\n",
    "print(\"* \"*8)\n",
    "print(\" *\"*8)\n",
    "\n"
   ]
  },
  {
   "cell_type": "code",
   "execution_count": null,
   "metadata": {},
   "outputs": [],
   "source": [
    "import math\n",
    "number=int(input(\"enter the number\"))\n",
    "print(math.factorial(number))"
   ]
  },
  {
   "cell_type": "code",
   "execution_count": null,
   "metadata": {},
   "outputs": [],
   "source": [
    "string1=input(\"enter the string\")\n",
    "print('upper case of string is',string1.upper())\n",
    "print('lower case of string is',string1.lower())\n",
    "print('title form case of string is',string1.title())\n"
   ]
  },
  {
   "cell_type": "code",
   "execution_count": null,
   "metadata": {},
   "outputs": [],
   "source": [
    "string2=\"ARESTARTRRRR\"\n",
    "a=string2.split('R',1)\n",
    "b=a[1].replace('R','$')\n",
    "print(a[0]+\"R\"+b)"
   ]
  },
  {
   "cell_type": "markdown",
   "metadata": {},
   "source": []
  },
  {
   "cell_type": "code",
   "execution_count": null,
   "metadata": {},
   "outputs": [],
   "source": [
    "name=input(\"enter the name\")\n",
    "a=name.split()\n",
    "print(a[1]+\" \"+a[0])"
   ]
  },
  {
   "cell_type": "code",
   "execution_count": null,
   "metadata": {},
   "outputs": [],
   "source": [
    "string4=(\"welcome to \")\n",
    "a=string4.split(' ')\n",
    "\n",
    "for i in range(1,len(a)-1):\n",
    "    b=b+\"*\"+a[i]\n",
    "print(b)\n"
   ]
  },
  {
   "cell_type": "code",
   "execution_count": null,
   "metadata": {},
   "outputs": [],
   "source": [
    "for i in range (0,101):\n",
    "    if i%3==0:\n",
    "        print(\"Fizz\")\n",
    "    if (i%15==0):\n",
    "        print(\"Fizzbuzz\")\n",
    "    elif i%5== 0:\n",
    "        print(\"buzz\")\n",
    "        \n",
    "    \n",
    "        \n",
    "    else:\n",
    "        print(i)\n",
    "\n",
    "        "
   ]
  },
  {
   "cell_type": "code",
   "execution_count": 1,
   "metadata": {},
   "outputs": [
    {
     "name": "stdout",
     "output_type": "stream",
     "text": [
      "enter an number between 0 to 10 \n",
      " 4\n",
      "player loose, you sellect numer is:- 4\n",
      "enter an number between 0 to 10 \n",
      " 3\n",
      "player loose, you sellect numer is:- 3\n",
      "enter an number between 0 to 10 \n",
      " 1\n",
      "player loose, you sellect numer is:- 1\n",
      "enter an number between 0 to 10 \n",
      " 2\n",
      "player loose, you sellect numer is:- 2\n",
      "enter an number between 0 to 10 \n",
      " 0\n",
      "player loose, you sellect numer is:- 0\n",
      "enter an number between 0 to 10 \n",
      " 5\n",
      "player loose, you sellect numer is:- 5\n",
      "enter an number between 0 to 10 \n",
      " 6\n",
      "player wins\n"
     ]
    }
   ],
   "source": [
    "import random\n",
    "computer=random.randint(0,11)\n",
    "\n",
    "i=0\n",
    "while i==0:\n",
    "    player=int(input(\"enter an number between 0 to 10 \\n \"))\n",
    "    if computer == player:\n",
    "        print(\"player wins\")\n",
    "        break\n",
    "    else:\n",
    "        print(\"player loose, you sellect numer is:-\",player)\n",
    "        \n",
    "        "
   ]
  },
  {
   "cell_type": "code",
   "execution_count": null,
   "metadata": {},
   "outputs": [],
   "source": []
  },
  {
   "cell_type": "markdown",
   "metadata": {},
   "source": []
  }
 ],
 "metadata": {
  "kernelspec": {
   "display_name": "Python 3",
   "language": "python",
   "name": "python3"
  },
  "language_info": {
   "codemirror_mode": {
    "name": "ipython",
    "version": 3
   },
   "file_extension": ".py",
   "mimetype": "text/x-python",
   "name": "python",
   "nbconvert_exporter": "python",
   "pygments_lexer": "ipython3",
   "version": "3.7.1"
  }
 },
 "nbformat": 4,
 "nbformat_minor": 2
}
